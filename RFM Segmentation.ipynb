{
 "cells": [
  {
   "cell_type": "markdown",
   "id": "ee682cf0-e627-439b-b879-7b4f858e76bc",
   "metadata": {},
   "source": [
    "#  SQL Project : E-commerce RFM Segmentation\n",
    "\n",
    "This project demonstrates how to perform **RFM (Recency, Frequency, Monetary) segmentation** using **SQLite** in a Jupyter Notebook.\n",
    "\n",
    "We will use real-world online retail transaction data to segment customers based on their purchasing behavior. This is a common technique in **marketing analytics** and **customer retention strategies**.\n"
   ]
  },
  {
   "cell_type": "code",
   "execution_count": 1,
   "id": "e13ea239-86a3-42e9-9ea1-44d40fdc2db0",
   "metadata": {},
   "outputs": [],
   "source": [
    "import pandas as pd\n",
    "import sqlite3"
   ]
  },
  {
   "cell_type": "markdown",
   "id": "d2954b14-e7f7-4bec-8d93-6c7b983538b4",
   "metadata": {},
   "source": [
    "##  Step 1: Load Dataset and Push to SQLite\n",
    "\n",
    "We begin by loading the e-commerce dataset, converting the date column, and pushing the data into a local SQLite database. This makes it easy to perform SQL-based analysis inside Python.\n"
   ]
  },
  {
   "cell_type": "code",
   "execution_count": 2,
   "id": "41c1fb8d-c91e-4bdb-b46a-2e9ddf60731d",
   "metadata": {},
   "outputs": [
    {
     "data": {
      "text/html": [
       "<div>\n",
       "<style scoped>\n",
       "    .dataframe tbody tr th:only-of-type {\n",
       "        vertical-align: middle;\n",
       "    }\n",
       "\n",
       "    .dataframe tbody tr th {\n",
       "        vertical-align: top;\n",
       "    }\n",
       "\n",
       "    .dataframe thead th {\n",
       "        text-align: right;\n",
       "    }\n",
       "</style>\n",
       "<table border=\"1\" class=\"dataframe\">\n",
       "  <thead>\n",
       "    <tr style=\"text-align: right;\">\n",
       "      <th></th>\n",
       "      <th>InvoiceNo</th>\n",
       "      <th>StockCode</th>\n",
       "      <th>Description</th>\n",
       "      <th>Quantity</th>\n",
       "      <th>InvoiceDate</th>\n",
       "      <th>UnitPrice</th>\n",
       "      <th>Total_Amount</th>\n",
       "      <th>CustomerID</th>\n",
       "      <th>Country</th>\n",
       "    </tr>\n",
       "  </thead>\n",
       "  <tbody>\n",
       "    <tr>\n",
       "      <th>0</th>\n",
       "      <td>538521</td>\n",
       "      <td>21754</td>\n",
       "      <td>HOME BUILDING BLOCK WORD</td>\n",
       "      <td>3</td>\n",
       "      <td>13-12-2010</td>\n",
       "      <td>5.95</td>\n",
       "      <td>17.85</td>\n",
       "      <td>14180</td>\n",
       "      <td>United Kingdom</td>\n",
       "    </tr>\n",
       "    <tr>\n",
       "      <th>1</th>\n",
       "      <td>538521</td>\n",
       "      <td>21755</td>\n",
       "      <td>LOVE BUILDING BLOCK WORD</td>\n",
       "      <td>3</td>\n",
       "      <td>13-12-2010</td>\n",
       "      <td>5.95</td>\n",
       "      <td>17.85</td>\n",
       "      <td>14180</td>\n",
       "      <td>United Kingdom</td>\n",
       "    </tr>\n",
       "    <tr>\n",
       "      <th>2</th>\n",
       "      <td>538521</td>\n",
       "      <td>22072</td>\n",
       "      <td>RED RETROSPOT TEA CUP AND SAUCER</td>\n",
       "      <td>8</td>\n",
       "      <td>13-12-2010</td>\n",
       "      <td>3.75</td>\n",
       "      <td>30.00</td>\n",
       "      <td>14180</td>\n",
       "      <td>United Kingdom</td>\n",
       "    </tr>\n",
       "    <tr>\n",
       "      <th>3</th>\n",
       "      <td>538521</td>\n",
       "      <td>22846</td>\n",
       "      <td>BREAD BIN DINER STYLE RED</td>\n",
       "      <td>1</td>\n",
       "      <td>13-12-2010</td>\n",
       "      <td>16.95</td>\n",
       "      <td>16.95</td>\n",
       "      <td>14180</td>\n",
       "      <td>United Kingdom</td>\n",
       "    </tr>\n",
       "    <tr>\n",
       "      <th>4</th>\n",
       "      <td>538521</td>\n",
       "      <td>22849</td>\n",
       "      <td>BREAD BIN DINER STYLE MINT</td>\n",
       "      <td>1</td>\n",
       "      <td>13-12-2010</td>\n",
       "      <td>16.95</td>\n",
       "      <td>16.95</td>\n",
       "      <td>14180</td>\n",
       "      <td>United Kingdom</td>\n",
       "    </tr>\n",
       "  </tbody>\n",
       "</table>\n",
       "</div>"
      ],
      "text/plain": [
       "   InvoiceNo StockCode                        Description  Quantity  \\\n",
       "0     538521     21754           HOME BUILDING BLOCK WORD         3   \n",
       "1     538521     21755           LOVE BUILDING BLOCK WORD         3   \n",
       "2     538521     22072  RED RETROSPOT TEA CUP AND SAUCER          8   \n",
       "3     538521     22846         BREAD BIN DINER STYLE RED          1   \n",
       "4     538521     22849         BREAD BIN DINER STYLE MINT         1   \n",
       "\n",
       "  InvoiceDate  UnitPrice  Total_Amount  CustomerID         Country  \n",
       "0  13-12-2010       5.95         17.85       14180  United Kingdom  \n",
       "1  13-12-2010       5.95         17.85       14180  United Kingdom  \n",
       "2  13-12-2010       3.75         30.00       14180  United Kingdom  \n",
       "3  13-12-2010      16.95         16.95       14180  United Kingdom  \n",
       "4  13-12-2010      16.95         16.95       14180  United Kingdom  "
      ]
     },
     "execution_count": 2,
     "metadata": {},
     "output_type": "execute_result"
    }
   ],
   "source": [
    "df = pd.read_csv(\"Online Retail.csv\")\n",
    "df.head()"
   ]
  },
  {
   "cell_type": "code",
   "execution_count": 3,
   "id": "cf0fa748-d9b7-4e6c-9e5c-0ab977dc78a4",
   "metadata": {},
   "outputs": [
    {
     "name": "stdout",
     "output_type": "stream",
     "text": [
      "<class 'pandas.core.frame.DataFrame'>\n",
      "RangeIndex: 337263 entries, 0 to 337262\n",
      "Data columns (total 9 columns):\n",
      " #   Column        Non-Null Count   Dtype  \n",
      "---  ------        --------------   -----  \n",
      " 0   InvoiceNo     337263 non-null  int64  \n",
      " 1   StockCode     337263 non-null  object \n",
      " 2   Description   337263 non-null  object \n",
      " 3   Quantity      337263 non-null  int64  \n",
      " 4   InvoiceDate   337263 non-null  object \n",
      " 5   UnitPrice     337263 non-null  float64\n",
      " 6   Total_Amount  337263 non-null  float64\n",
      " 7   CustomerID    337263 non-null  int64  \n",
      " 8   Country       337263 non-null  object \n",
      "dtypes: float64(2), int64(3), object(4)\n",
      "memory usage: 23.2+ MB\n"
     ]
    }
   ],
   "source": [
    "df.info()"
   ]
  },
  {
   "cell_type": "code",
   "execution_count": 4,
   "id": "3b4701c3-7ed0-4ade-84dd-53894ac654ba",
   "metadata": {},
   "outputs": [],
   "source": [
    "df[\"InvoiceDate\"] = pd.to_datetime(df[\"InvoiceDate\"], dayfirst=True)"
   ]
  },
  {
   "cell_type": "code",
   "execution_count": 5,
   "id": "91b4c662-4fca-4cc9-8926-cc277cfd6010",
   "metadata": {},
   "outputs": [
    {
     "name": "stdout",
     "output_type": "stream",
     "text": [
      "<class 'pandas.core.frame.DataFrame'>\n",
      "RangeIndex: 337263 entries, 0 to 337262\n",
      "Data columns (total 9 columns):\n",
      " #   Column        Non-Null Count   Dtype         \n",
      "---  ------        --------------   -----         \n",
      " 0   InvoiceNo     337263 non-null  int64         \n",
      " 1   StockCode     337263 non-null  object        \n",
      " 2   Description   337263 non-null  object        \n",
      " 3   Quantity      337263 non-null  int64         \n",
      " 4   InvoiceDate   337263 non-null  datetime64[ns]\n",
      " 5   UnitPrice     337263 non-null  float64       \n",
      " 6   Total_Amount  337263 non-null  float64       \n",
      " 7   CustomerID    337263 non-null  int64         \n",
      " 8   Country       337263 non-null  object        \n",
      "dtypes: datetime64[ns](1), float64(2), int64(3), object(3)\n",
      "memory usage: 23.2+ MB\n"
     ]
    }
   ],
   "source": [
    "df.info()"
   ]
  },
  {
   "cell_type": "code",
   "execution_count": 6,
   "id": "0491adaa-5811-4045-9cbb-27aadf5d7229",
   "metadata": {},
   "outputs": [
    {
     "data": {
      "text/plain": [
       "337263"
      ]
     },
     "execution_count": 6,
     "metadata": {},
     "output_type": "execute_result"
    }
   ],
   "source": [
    "conn = sqlite3.connect(\"ecommerce_rfm.db\")\n",
    "df.to_sql(\"transactions\", conn, if_exists=\"replace\", index=False)"
   ]
  },
  {
   "cell_type": "markdown",
   "id": "ad6eba68-36f6-4e57-8797-56072bfc5805",
   "metadata": {},
   "source": [
    "##  Step 2: Get Latest Invoice Date\n",
    "\n",
    "RFM analysis depends on a reference date. We use the **latest transaction date** in the dataset as our reference to calculate Recency (days since last purchase).\n"
   ]
  },
  {
   "cell_type": "code",
   "execution_count": 7,
   "id": "1275f8b9-2a6b-4b85-a906-4ac67cf921fa",
   "metadata": {},
   "outputs": [
    {
     "data": {
      "text/html": [
       "<div>\n",
       "<style scoped>\n",
       "    .dataframe tbody tr th:only-of-type {\n",
       "        vertical-align: middle;\n",
       "    }\n",
       "\n",
       "    .dataframe tbody tr th {\n",
       "        vertical-align: top;\n",
       "    }\n",
       "\n",
       "    .dataframe thead th {\n",
       "        text-align: right;\n",
       "    }\n",
       "</style>\n",
       "<table border=\"1\" class=\"dataframe\">\n",
       "  <thead>\n",
       "    <tr style=\"text-align: right;\">\n",
       "      <th></th>\n",
       "      <th>latest_date</th>\n",
       "    </tr>\n",
       "  </thead>\n",
       "  <tbody>\n",
       "    <tr>\n",
       "      <th>0</th>\n",
       "      <td>2011-12-09 00:00:00</td>\n",
       "    </tr>\n",
       "  </tbody>\n",
       "</table>\n",
       "</div>"
      ],
      "text/plain": [
       "           latest_date\n",
       "0  2011-12-09 00:00:00"
      ]
     },
     "execution_count": 7,
     "metadata": {},
     "output_type": "execute_result"
    }
   ],
   "source": [
    "query = \"SELECT MAX(InvoiceDate) AS latest_date FROM transactions;\"\n",
    "pd.read_sql_query(query, conn)"
   ]
  },
  {
   "cell_type": "markdown",
   "id": "987425e6-10e1-4c1e-8eaf-7ec83577506a",
   "metadata": {},
   "source": [
    "##  Step 3: Calculate Recency, Frequency, Monetary Values\n",
    "\n",
    "We calculate RFM metrics per customer:\n",
    "- **Recency**: Days since the last purchase\n",
    "- **Frequency**: Number of unique orders\n",
    "- **Monetary**: Total purchase amount\n",
    "\n",
    "These metrics are the foundation of customer segmentation.\n"
   ]
  },
  {
   "cell_type": "code",
   "execution_count": 8,
   "id": "aebd2525-2e2f-4bb5-9d3c-054ca3c05d49",
   "metadata": {},
   "outputs": [
    {
     "data": {
      "text/html": [
       "<div>\n",
       "<style scoped>\n",
       "    .dataframe tbody tr th:only-of-type {\n",
       "        vertical-align: middle;\n",
       "    }\n",
       "\n",
       "    .dataframe tbody tr th {\n",
       "        vertical-align: top;\n",
       "    }\n",
       "\n",
       "    .dataframe thead th {\n",
       "        text-align: right;\n",
       "    }\n",
       "</style>\n",
       "<table border=\"1\" class=\"dataframe\">\n",
       "  <thead>\n",
       "    <tr style=\"text-align: right;\">\n",
       "      <th></th>\n",
       "      <th>CustomerID</th>\n",
       "      <th>Recency</th>\n",
       "      <th>Frequency</th>\n",
       "      <th>Monetary</th>\n",
       "    </tr>\n",
       "  </thead>\n",
       "  <tbody>\n",
       "    <tr>\n",
       "      <th>0</th>\n",
       "      <td>12346</td>\n",
       "      <td>326.0</td>\n",
       "      <td>1</td>\n",
       "      <td>77183.60</td>\n",
       "    </tr>\n",
       "    <tr>\n",
       "      <th>1</th>\n",
       "      <td>12347</td>\n",
       "      <td>40.0</td>\n",
       "      <td>7</td>\n",
       "      <td>4310.00</td>\n",
       "    </tr>\n",
       "    <tr>\n",
       "      <th>2</th>\n",
       "      <td>12348</td>\n",
       "      <td>76.0</td>\n",
       "      <td>4</td>\n",
       "      <td>1797.24</td>\n",
       "    </tr>\n",
       "    <tr>\n",
       "      <th>3</th>\n",
       "      <td>12350</td>\n",
       "      <td>311.0</td>\n",
       "      <td>1</td>\n",
       "      <td>334.40</td>\n",
       "    </tr>\n",
       "    <tr>\n",
       "      <th>4</th>\n",
       "      <td>12352</td>\n",
       "      <td>73.0</td>\n",
       "      <td>8</td>\n",
       "      <td>2506.04</td>\n",
       "    </tr>\n",
       "  </tbody>\n",
       "</table>\n",
       "</div>"
      ],
      "text/plain": [
       "   CustomerID  Recency  Frequency  Monetary\n",
       "0       12346    326.0          1  77183.60\n",
       "1       12347     40.0          7   4310.00\n",
       "2       12348     76.0          4   1797.24\n",
       "3       12350    311.0          1    334.40\n",
       "4       12352     73.0          8   2506.04"
      ]
     },
     "execution_count": 8,
     "metadata": {},
     "output_type": "execute_result"
    }
   ],
   "source": [
    "query = \"\"\"\n",
    "SELECT \n",
    "    CustomerID,\n",
    "    ROUND(JULIANDAY('2011-12-10') - JULIANDAY(MAX(InvoiceDate)), 0) AS Recency,\n",
    "    COUNT(DISTINCT InvoiceNo) AS Frequency,\n",
    "    ROUND(SUM(Total_Amount), 2) AS Monetary\n",
    "FROM transactions\n",
    "WHERE CustomerID IS NOT NULL\n",
    "GROUP BY CustomerID;\n",
    "\"\"\"\n",
    "\n",
    "rfm = pd.read_sql_query(query, conn)\n",
    "rfm.head()"
   ]
  },
  {
   "cell_type": "markdown",
   "id": "91049214-e311-4132-807c-89ee94d73072",
   "metadata": {},
   "source": [
    "##  Step 4: Score Each Metric from 1 to 5\n",
    "\n",
    "Each customer is scored on Recency, Frequency, and Monetary metrics using **quantile binning**. This creates a consistent scale from 1 (lowest) to 5 (highest).\n",
    "- Lower Recency = Higher score (recent buyers)\n",
    "- Higher Frequency = Higher score (loyal buyers)\n",
    "- Higher Monetary = Higher score (big spenders)\n"
   ]
  },
  {
   "cell_type": "code",
   "execution_count": 9,
   "id": "c9f53dda-a5f1-462a-8e37-2c85435e85c7",
   "metadata": {},
   "outputs": [],
   "source": [
    "rfm['R_score'] = pd.qcut(rfm['Recency'], 5, labels=[5, 4, 3, 2, 1]).astype(int)\n",
    "rfm['F_score'] = pd.qcut(rfm['Frequency'].rank(method='first'), 5, labels=[1, 2, 3, 4, 5]).astype(int)\n",
    "rfm['M_score'] = pd.qcut(rfm['Monetary'].rank(method='first'), 5, labels=[1, 2, 3, 4, 5]).astype(int)"
   ]
  },
  {
   "cell_type": "markdown",
   "id": "576260ba-93e2-4051-94a2-3b89af904fd4",
   "metadata": {},
   "source": [
    "##  Step 5: Create RFM Score\n",
    "\n",
    "We now combine the individual R, F, and M scores into a single RFM string (e.g., 514). This score helps us cluster customers into meaningful behavioral groups.\n"
   ]
  },
  {
   "cell_type": "code",
   "execution_count": 10,
   "id": "54cbc2d1-0dd7-455d-8b4b-4c4ebd5c55ad",
   "metadata": {},
   "outputs": [],
   "source": [
    "rfm['RFM_Score'] = rfm['R_score'].astype(str) + rfm['F_score'].astype(str) + rfm['M_score'].astype(str)"
   ]
  },
  {
   "cell_type": "markdown",
   "id": "0654af24-3911-4443-a171-a93cd9e1a6b8",
   "metadata": {},
   "source": [
    "##  Step 6: Define Customer Segments\n",
    "\n",
    "Based on RFM Score, we assign labels to customer groups:\n",
    "- **555** → Champions\n",
    "- **R=5** → Recent Customers\n",
    "- **F=5** → Loyal Customers\n",
    "- **M=5** → Big Spenders\n",
    "- **111** → Lost\n",
    "- **R=1** → At Risk\n",
    "- Else → Others\n",
    "\n",
    "These segments help target campaigns effectively.\n"
   ]
  },
  {
   "cell_type": "code",
   "execution_count": 11,
   "id": "2576fd47-6b77-44f4-9319-39dc794392b6",
   "metadata": {},
   "outputs": [
    {
     "data": {
      "text/html": [
       "<div>\n",
       "<style scoped>\n",
       "    .dataframe tbody tr th:only-of-type {\n",
       "        vertical-align: middle;\n",
       "    }\n",
       "\n",
       "    .dataframe tbody tr th {\n",
       "        vertical-align: top;\n",
       "    }\n",
       "\n",
       "    .dataframe thead th {\n",
       "        text-align: right;\n",
       "    }\n",
       "</style>\n",
       "<table border=\"1\" class=\"dataframe\">\n",
       "  <thead>\n",
       "    <tr style=\"text-align: right;\">\n",
       "      <th></th>\n",
       "      <th>CustomerID</th>\n",
       "      <th>Recency</th>\n",
       "      <th>Frequency</th>\n",
       "      <th>Monetary</th>\n",
       "      <th>R_score</th>\n",
       "      <th>F_score</th>\n",
       "      <th>M_score</th>\n",
       "      <th>RFM_Score</th>\n",
       "      <th>Segment</th>\n",
       "    </tr>\n",
       "  </thead>\n",
       "  <tbody>\n",
       "    <tr>\n",
       "      <th>0</th>\n",
       "      <td>12346</td>\n",
       "      <td>326.0</td>\n",
       "      <td>1</td>\n",
       "      <td>77183.60</td>\n",
       "      <td>1</td>\n",
       "      <td>1</td>\n",
       "      <td>5</td>\n",
       "      <td>115</td>\n",
       "      <td>Big Spenders</td>\n",
       "    </tr>\n",
       "    <tr>\n",
       "      <th>1</th>\n",
       "      <td>12347</td>\n",
       "      <td>40.0</td>\n",
       "      <td>7</td>\n",
       "      <td>4310.00</td>\n",
       "      <td>5</td>\n",
       "      <td>5</td>\n",
       "      <td>5</td>\n",
       "      <td>555</td>\n",
       "      <td>Champions</td>\n",
       "    </tr>\n",
       "    <tr>\n",
       "      <th>2</th>\n",
       "      <td>12348</td>\n",
       "      <td>76.0</td>\n",
       "      <td>4</td>\n",
       "      <td>1797.24</td>\n",
       "      <td>3</td>\n",
       "      <td>4</td>\n",
       "      <td>4</td>\n",
       "      <td>344</td>\n",
       "      <td>Others</td>\n",
       "    </tr>\n",
       "    <tr>\n",
       "      <th>3</th>\n",
       "      <td>12350</td>\n",
       "      <td>311.0</td>\n",
       "      <td>1</td>\n",
       "      <td>334.40</td>\n",
       "      <td>1</td>\n",
       "      <td>1</td>\n",
       "      <td>2</td>\n",
       "      <td>112</td>\n",
       "      <td>At Risk</td>\n",
       "    </tr>\n",
       "    <tr>\n",
       "      <th>4</th>\n",
       "      <td>12352</td>\n",
       "      <td>73.0</td>\n",
       "      <td>8</td>\n",
       "      <td>2506.04</td>\n",
       "      <td>3</td>\n",
       "      <td>5</td>\n",
       "      <td>5</td>\n",
       "      <td>355</td>\n",
       "      <td>Loyal Customers</td>\n",
       "    </tr>\n",
       "  </tbody>\n",
       "</table>\n",
       "</div>"
      ],
      "text/plain": [
       "   CustomerID  Recency  Frequency  Monetary  R_score  F_score  M_score  \\\n",
       "0       12346    326.0          1  77183.60        1        1        5   \n",
       "1       12347     40.0          7   4310.00        5        5        5   \n",
       "2       12348     76.0          4   1797.24        3        4        4   \n",
       "3       12350    311.0          1    334.40        1        1        2   \n",
       "4       12352     73.0          8   2506.04        3        5        5   \n",
       "\n",
       "  RFM_Score          Segment  \n",
       "0       115     Big Spenders  \n",
       "1       555        Champions  \n",
       "2       344           Others  \n",
       "3       112          At Risk  \n",
       "4       355  Loyal Customers  "
      ]
     },
     "execution_count": 11,
     "metadata": {},
     "output_type": "execute_result"
    }
   ],
   "source": [
    "def assign_segment(score):\n",
    "    if score == '555':\n",
    "        return 'Champions'\n",
    "    elif score[0] == '5':\n",
    "        return 'Recent Customers'\n",
    "    elif score[1] == '5':\n",
    "        return 'Loyal Customers'\n",
    "    elif score[2] == '5':\n",
    "        return 'Big Spenders'\n",
    "    elif score == '111':\n",
    "        return 'Lost'\n",
    "    elif score[0] == '1':\n",
    "        return 'At Risk'\n",
    "    else:\n",
    "        return 'Others'\n",
    "\n",
    "rfm['Segment'] = rfm['RFM_Score'].apply(assign_segment)\n",
    "rfm.head()"
   ]
  },
  {
   "cell_type": "code",
   "execution_count": 18,
   "id": "a3c87783-8b7f-42d8-a0f3-dffce273f40f",
   "metadata": {},
   "outputs": [],
   "source": [
    "rfm.to_csv(\"Final_RFM_Segmentation.csv\", index=False)"
   ]
  },
  {
   "cell_type": "code",
   "execution_count": null,
   "id": "fc21b8aa-c4f2-405c-a3ae-ab51daac17b9",
   "metadata": {},
   "outputs": [],
   "source": []
  }
 ],
 "metadata": {
  "kernelspec": {
   "display_name": "Python 3 (ipykernel)",
   "language": "python",
   "name": "python3"
  },
  "language_info": {
   "codemirror_mode": {
    "name": "ipython",
    "version": 3
   },
   "file_extension": ".py",
   "mimetype": "text/x-python",
   "name": "python",
   "nbconvert_exporter": "python",
   "pygments_lexer": "ipython3",
   "version": "3.13.0"
  }
 },
 "nbformat": 4,
 "nbformat_minor": 5
}
